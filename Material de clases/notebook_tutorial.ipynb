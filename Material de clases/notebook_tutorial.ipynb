{
  "cells": [
    {
      "cell_type": "markdown",
      "metadata": {
        "id": "dzNng6vCL9eP"
      },
      "source": [
        "# IIC2115 Tutorial de Google Colab y Notebooks"
      ]
    },
    {
      "cell_type": "markdown",
      "metadata": {
        "id": "0vJLt3JRL9eR"
      },
      "source": [
        "Tutorial original de [Justin Johnson](https://web.eecs.umich.edu/~justincj/). Lo tradujimos y adaptamos para este curso.\n",
        "\n",
        "Corre Python 3 por defecto."
      ]
    },
    {
      "cell_type": "markdown",
      "metadata": {
        "id": "qVrTo-LhL9eS"
      },
      "source": [
        "## Introducción"
      ]
    },
    {
      "cell_type": "markdown",
      "metadata": {
        "id": "9t1gKp9PL9eV"
      },
      "source": [
        "### Notebooks\n",
        "\n",
        "Los Notebooks (archivos de extensión .ipynb) tienen dos tipos de bloques:\n",
        "1. Bloques de código\n",
        "2. Bloques de texto\n",
        "\n",
        "Los bloques de código permiten correr pedazos de código de manera individual, pero conectada con los otros bloques de código. Por ejemplo, una variable creada en un bloque, se puede usar en otro.\n",
        "\n",
        "Los bloques de texto/Markdown (como este! :D) se pueden poner en cualquier lugar. Usyalmente, se usan para escribir cosas relacionadas a bloques de código y explicar mejor lo que se está desarrollando. Se puede escribir con formato Markdown para poner listas, tablas, títulos, *itálico*, **negrita**, links, imágenes y mucho más (pueden revisar esta [guía](https://colab.research.google.com/notebooks/markdown_guide.ipynb))."
      ]
    },
    {
      "cell_type": "markdown",
      "metadata": {
        "id": "nxvEkGXPM3Xh"
      },
      "source": [
        "## Correr comandos en Colab\n",
        "\n",
        "[Guía oficial](https://colab.research.google.com/github/thomasgilgenast/lib5c-tutorials/blob/master/commandline_tutorial.ipynb)\n",
        "\n",
        "Para instalar librerías o correr comandos de consola en Colab, se puede usar el operador `!` o `%`. Se recomienda el segundo para instalar librerías."
      ]
    },
    {
      "cell_type": "code",
      "execution_count": null,
      "metadata": {
        "colab": {
          "base_uri": "https://localhost:8080/",
          "height": 34
        },
        "id": "1L4Am0QATgOc",
        "outputId": "bb5ee3ac-8683-44ab-e599-a2077510f327"
      },
      "outputs": [],
      "source": [
        "!python --version\n",
        "!pwd\n",
        "%pip install numpy\n",
        "%pip install -q pandas # Se usa -q para tener una instalación con mínimo output"
      ]
    },
    {
      "cell_type": "markdown",
      "metadata": {},
      "source": [
        "### Python\n",
        "\n",
        "Python es un lenguage de uso general muy útil por si solo, pero sumado a algunas librerías populares (numpy, scipy, matplotlib), se vuelve una herramienta poderosa para el análisis y ciencia de datos."
      ]
    },
    {
      "cell_type": "markdown",
      "metadata": {
        "id": "U1PvreR9L9eW"
      },
      "source": [
        "En este tutorial se revisará:\n",
        "\n",
        "* Básico de Python: prints, tipos de datos (float, int, boolean, string) y operadores\n",
        "* Listas y Diccionarios\n",
        "* Control de Flujo `if-else` y operadores lógicos\n",
        "* Loops: `for`\n",
        "* Funciones"
      ]
    },
    {
      "cell_type": "markdown",
      "metadata": {
        "id": "JAFKYgrpL9eY"
      },
      "source": [
        "### Básico de Python "
      ]
    },
    {
      "cell_type": "markdown",
      "metadata": {},
      "source": [
        "### Print"
      ]
    },
    {
      "cell_type": "code",
      "execution_count": null,
      "metadata": {
        "colab": {
          "base_uri": "https://localhost:8080/",
          "height": 34
        },
        "id": "cYb0pjh1L9eb",
        "outputId": "9a8e37de-1dc1-4092-faee-06ad4ff2d73a"
      },
      "outputs": [],
      "source": [
        "# Print: sirve para mostrar en la salida algo que estamos corriendo\n",
        "print(\"Esto es un texto\")\n",
        "\n",
        "# Los Notebooks por defecto hacen print de la última línea del bloque, aunque no se especifique\n",
        "a = \"Se imprime por defecto\"\n",
        "a"
      ]
    },
    {
      "cell_type": "markdown",
      "metadata": {
        "id": "NwS_hu4xL9eo"
      },
      "source": [
        "### Tipos de datos básicos"
      ]
    },
    {
      "cell_type": "markdown",
      "metadata": {},
      "source": [
        "#### Números\n",
        "Primero, tenemos los números: `int` y `float`"
      ]
    },
    {
      "cell_type": "code",
      "execution_count": null,
      "metadata": {
        "colab": {
          "base_uri": "https://localhost:8080/",
          "height": 52
        },
        "id": "KheDr_zDL9es",
        "outputId": "1db9f4d3-2e0d-4008-f78a-161ed52c4359"
      },
      "outputs": [],
      "source": [
        "# Enteros\n",
        "x = 4\n",
        "print(x, type(x))"
      ]
    },
    {
      "cell_type": "code",
      "execution_count": null,
      "metadata": {
        "colab": {
          "base_uri": "https://localhost:8080/",
          "height": 86
        },
        "id": "sk_8DFcuL9ey",
        "outputId": "dd60a271-3457-465d-e16a-41acf12a56ab"
      },
      "outputs": [],
      "source": [
        "print(x + 1)   # Suma\n",
        "print(x - 1)   # Resta\n",
        "print(x * 2)   # Multiplicación\n",
        "print(x / 2)   # Division, se vuelte de tipo float\n",
        "print(x ** 2)  # Exponente"
      ]
    },
    {
      "cell_type": "code",
      "execution_count": null,
      "metadata": {
        "colab": {
          "base_uri": "https://localhost:8080/",
          "height": 52
        },
        "id": "U4Jl8K0tL9e4",
        "outputId": "07e3db14-3781-42b7-8ba6-042b3f9f72ba"
      },
      "outputs": [],
      "source": [
        "x += 1\n",
        "print(x)\n",
        "x *= 2\n",
        "print(x)"
      ]
    },
    {
      "cell_type": "code",
      "execution_count": null,
      "metadata": {
        "colab": {
          "base_uri": "https://localhost:8080/",
          "height": 52
        },
        "id": "w-nZ0Sg_L9e9",
        "outputId": "3aa579f8-9540-46ef-935e-be887781ecb4"
      },
      "outputs": [],
      "source": [
        "# Números de tipo flotante (float)\n",
        "y = 2.5\n",
        "print(type(y))\n",
        "print(y, y + 1, y * 2, y ** 2)"
      ]
    },
    {
      "cell_type": "code",
      "execution_count": null,
      "metadata": {},
      "outputs": [],
      "source": [
        "# Se puede pasar de int a float y viceversa\n",
        "a = 3\n",
        "b = 3.9\n",
        "\n",
        "print(\"Pasar de int a float:\", a, float(a))\n",
        "\n",
        "# Notar que al pasar un float a int, se conserva su parte entera\n",
        "print(\"Pasar de float a int:\", b, int(b))"
      ]
    },
    {
      "cell_type": "markdown",
      "metadata": {
        "id": "EqRS7qhBL9fC"
      },
      "source": [
        "#### Booleanos"
      ]
    },
    {
      "cell_type": "markdown",
      "metadata": {
        "id": "Nv_LIVOJL9fD"
      },
      "source": [
        "Operadores que aplican la lógica booleana, o sea, toman valor verdadero y falso."
      ]
    },
    {
      "cell_type": "code",
      "execution_count": null,
      "metadata": {
        "colab": {
          "base_uri": "https://localhost:8080/",
          "height": 34
        },
        "id": "RvoImwgGL9fE",
        "outputId": "1517077b-edca-463f-857b-6a8c386cd387"
      },
      "outputs": [],
      "source": [
        "# Tipos de datos booleanos\n",
        "t, f = True, False\n",
        "print(type(t))"
      ]
    },
    {
      "cell_type": "markdown",
      "metadata": {
        "id": "YQgmQfOgL9fI"
      },
      "source": [
        "Revisemos algunos operadores lógicos:"
      ]
    },
    {
      "cell_type": "code",
      "execution_count": null,
      "metadata": {
        "colab": {
          "base_uri": "https://localhost:8080/",
          "height": 86
        },
        "id": "6zYm7WzCL9fK",
        "outputId": "f3cebe76-5af4-473a-8127-88a1fd60560f"
      },
      "outputs": [],
      "source": [
        "print(t and f) # AND: se deben cumplir ambas para que sea verdadero\n",
        "print(t or f)  # OR: se debe cumplir una o ambas\n",
        "print(not t)   # NOT: valor lógico opuesto\n",
        "print(t != f)  # XOR: OR exclusivo, o sea, se cumple una o la otra, pero no ambas"
      ]
    },
    {
      "cell_type": "markdown",
      "metadata": {
        "id": "UQnQWFEyL9fP"
      },
      "source": [
        "#### Strings"
      ]
    },
    {
      "cell_type": "code",
      "execution_count": null,
      "metadata": {
        "colab": {
          "base_uri": "https://localhost:8080/",
          "height": 34
        },
        "id": "AijEDtPFL9fP",
        "outputId": "2a6b0cd7-58f1-43cf-e6b7-bf940d532549"
      },
      "outputs": [],
      "source": [
        "hello = 'hello'   # Para el texto, se pueden usar comillas simples...\n",
        "world = \"world\"   # o dobles, no hay diferencia\n",
        "\n",
        "print(hello, len(hello))"
      ]
    },
    {
      "cell_type": "markdown",
      "metadata": {},
      "source": [
        "Podemos combinar variables con el operador `+` para tener texto modificable"
      ]
    },
    {
      "cell_type": "code",
      "execution_count": null,
      "metadata": {
        "colab": {
          "base_uri": "https://localhost:8080/",
          "height": 34
        },
        "id": "saDeaA7hL9fT",
        "outputId": "2837d0ab-9ae5-4053-d087-bfa0af81c344"
      },
      "outputs": [],
      "source": [
        "hw = hello + ' ' + world  # String concatenation\n",
        "print(hw)"
      ]
    },
    {
      "cell_type": "markdown",
      "metadata": {},
      "source": [
        "También, se puede usar el operador de formato"
      ]
    },
    {
      "cell_type": "code",
      "execution_count": null,
      "metadata": {
        "colab": {
          "base_uri": "https://localhost:8080/",
          "height": 34
        },
        "id": "Nji1_UjYL9fY",
        "outputId": "0149b0ca-425a-4a34-8e24-8dff7080922e"
      },
      "outputs": [],
      "source": [
        "hw12 = f'{hello} {world} {12}'\n",
        "print(hw12)"
      ]
    },
    {
      "cell_type": "markdown",
      "metadata": {
        "id": "bUpl35bIL9fc"
      },
      "source": [
        "Otros métodos útiles:"
      ]
    },
    {
      "cell_type": "code",
      "execution_count": null,
      "metadata": {
        "colab": {
          "base_uri": "https://localhost:8080/",
          "height": 121
        },
        "id": "VOxGatlsL9fd",
        "outputId": "ab009df3-8643-4d3e-f85f-a813b70db9cb"
      },
      "outputs": [],
      "source": [
        "s = \"Hola\"\n",
        "print(s.capitalize())  # Capitalizar el texto\n",
        "print(s.upper())       # Convertir a mayúsculas. Usar .lower() para minúsculas\n",
        "print(s.rjust(7))      # Justificar texto a la derecha\n",
        "print(s.center(7))     # Centrar texto\n",
        "print(s.replace('l', '(ele)'))  # Reemplazar un substring\n",
        "print('  world '.strip())  # Eliminar espacios en blanco al inicio y final"
      ]
    },
    {
      "cell_type": "markdown",
      "metadata": {
        "id": "06cayXLtL9fi"
      },
      "source": [
        "Pueden revisar más métodos de string en la [documentación](https://docs.python.org/3.7/library/stdtypes.html#string-methods)."
      ]
    },
    {
      "cell_type": "markdown",
      "metadata": {
        "id": "UsIWOe0LL9fn"
      },
      "source": [
        "### Listas"
      ]
    },
    {
      "cell_type": "markdown",
      "metadata": {
        "id": "wzxX7rgWL9fn"
      },
      "source": [
        "Una lista de Python guarda un arreglo de elementos. Su tamaño y tipo de datos es variable."
      ]
    },
    {
      "cell_type": "code",
      "execution_count": null,
      "metadata": {
        "colab": {
          "base_uri": "https://localhost:8080/",
          "height": 52
        },
        "id": "hk3A8pPcL9fp",
        "outputId": "b545939a-580c-4356-db95-7ad3670b46e4"
      },
      "outputs": [],
      "source": [
        "xs = [3, 1, 2]   # Crear lista\n",
        "print(xs, xs[2])\n",
        "print(xs[-1], xs[-2])     # Los índices negeativos parten del final de la lista"
      ]
    },
    {
      "cell_type": "code",
      "execution_count": null,
      "metadata": {
        "colab": {
          "base_uri": "https://localhost:8080/",
          "height": 34
        },
        "id": "YCjCy_0_L9ft",
        "outputId": "417c54ff-170b-4372-9099-0f756f8e48af"
      },
      "outputs": [],
      "source": [
        "xs[2] = 'foo'    # Podemos agregar diferentes tipos de datos\n",
        "print(xs)"
      ]
    },
    {
      "cell_type": "code",
      "execution_count": null,
      "metadata": {
        "colab": {
          "base_uri": "https://localhost:8080/",
          "height": 34
        },
        "id": "vJ0x5cF-L9fx",
        "outputId": "a97731a3-70e1-4553-d9e0-2aea227cac80"
      },
      "outputs": [],
      "source": [
        "xs.append('bar') # Agregar nuevo elemento al final\n",
        "print(xs)  "
      ]
    },
    {
      "cell_type": "code",
      "execution_count": null,
      "metadata": {
        "colab": {
          "base_uri": "https://localhost:8080/",
          "height": 34
        },
        "id": "cxVCNRTNL9f1",
        "outputId": "508fbe59-20aa-48b5-a1b2-f90363e7a104"
      },
      "outputs": [],
      "source": [
        "x = xs.pop()     # Obtener y eliminar el último elemento de la lista\n",
        "print(x, xs)"
      ]
    },
    {
      "cell_type": "markdown",
      "metadata": {
        "id": "ovahhxd_L9f5"
      },
      "source": [
        "#### Slicing"
      ]
    },
    {
      "cell_type": "markdown",
      "metadata": {
        "id": "YeSYKhv9L9f6"
      },
      "source": [
        "Recordar que podemos usar slices para acceder a una sublista"
      ]
    },
    {
      "cell_type": "code",
      "execution_count": null,
      "metadata": {
        "colab": {
          "base_uri": "https://localhost:8080/",
          "height": 139
        },
        "id": "ninq666bL9f6",
        "outputId": "c3c2ed92-7358-4fdb-bbc0-e90f82e7e941"
      },
      "outputs": [],
      "source": [
        "nums = list(range(5))    # range() es un función que crea una lista de enteros partiendo de 0 hasta 5 (sin incluir)\n",
        "print(nums)         \n",
        "\n",
        "print(nums[2:4])    # Obtiene sublista de los índices 2 a 4 (sin incluir)\n",
        "print(nums[2:])     # Obtiene sublista desde el índice 2 hasta el final\n",
        "print(nums[:2])     # Obtiene sublista desde el inicio hasta el índice 2 (sin incluir)\n",
        "print(nums[:])      # Obtiene una sublista igual a la originañ\n",
        "print(nums[:-1])    # Se pueden usar índices negativos\n",
        "nums[2:4] = [8, 9]  # Asignar una nueva sublista al slice 2:4\n",
        "print(nums)         "
      ]
    },
    {
      "cell_type": "markdown",
      "metadata": {
        "id": "H8xsUEFpL9gZ"
      },
      "source": [
        "#### Diccionarios"
      ]
    },
    {
      "cell_type": "markdown",
      "metadata": {
        "id": "kkjAGMAJL9ga"
      },
      "source": [
        "Los diccionarios guardan pares (llave, valor)"
      ]
    },
    {
      "cell_type": "code",
      "execution_count": null,
      "metadata": {
        "colab": {
          "base_uri": "https://localhost:8080/",
          "height": 52
        },
        "id": "XBYI1MrYL9gb",
        "outputId": "8e24c1da-0fc0-4b4c-a3e6-6f758a53b7da"
      },
      "outputs": [],
      "source": [
        "d = {'gato': 'suave', 'pero': 'peludo'}  # Crear un nuevo diccionario\n",
        "print(d['gato'])                         # Obtener el valor de la llave\n",
        "print('cat' in d, \"gato\" in d)           # Revisar si una llave existe"
      ]
    },
    {
      "cell_type": "code",
      "execution_count": null,
      "metadata": {
        "colab": {
          "base_uri": "https://localhost:8080/",
          "height": 34
        },
        "id": "pS7e-G-HL9gf",
        "outputId": "feb4bf18-c0a3-42a2-eaf5-3fc390f36dcf"
      },
      "outputs": [],
      "source": [
        "d['pez'] = 'mojado'    # Agregar o editar un valor\n",
        "print(d)"
      ]
    },
    {
      "cell_type": "code",
      "execution_count": null,
      "metadata": {
        "colab": {
          "base_uri": "https://localhost:8080/",
          "height": 165
        },
        "id": "tFY065ItL9gi",
        "outputId": "7e42a5f0-1856-4608-a927-0930ab37a66c"
      },
      "outputs": [],
      "source": [
        "print(d['mono'])  # KeyError: error que se levanta al no encontrar una llave"
      ]
    },
    {
      "cell_type": "code",
      "execution_count": null,
      "metadata": {
        "colab": {
          "base_uri": "https://localhost:8080/",
          "height": 34
        },
        "id": "0EItdNBJL9go",
        "outputId": "652a950f-b0c2-4623-98bd-0191b300cd57"
      },
      "outputs": [],
      "source": [
        "del d['pez']        # Eliminar un elemento\n",
        "d"
      ]
    },
    {
      "cell_type": "markdown",
      "metadata": {
        "id": "IxwEqHlGL9gr"
      },
      "source": [
        "Iterar sobre un diccionario:"
      ]
    },
    {
      "cell_type": "code",
      "execution_count": null,
      "metadata": {
        "colab": {
          "base_uri": "https://localhost:8080/",
          "height": 69
        },
        "id": "rYfz7ZKNL9gs",
        "outputId": "155bdb17-3179-4292-c832-8166e955e942"
      },
      "outputs": [],
      "source": [
        "for llave, valor in d.items():\n",
        "    print('El {} es {}!'.format(llave, valor))"
      ]
    },
    {
      "cell_type": "markdown",
      "metadata": {},
      "source": [
        "### Control de flujo\n",
        "\n",
        "Definir qué camino seguir en función de una determinada condición."
      ]
    },
    {
      "cell_type": "code",
      "execution_count": null,
      "metadata": {},
      "outputs": [],
      "source": [
        "a = 200\n",
        "b = 33\n",
        "if b > a:\n",
        "  print(\"b es mayor que a\")\n",
        "elif a == b:\n",
        "  print(\"a y b son iguales\")\n",
        "else:\n",
        "  print(\"a es mayor que b\")"
      ]
    },
    {
      "cell_type": "code",
      "execution_count": null,
      "metadata": {},
      "outputs": [],
      "source": [
        "#  Versión corta del if/else\n",
        "a = 2\n",
        "b = 330\n",
        "print(\"A\") if a > b else print(\"B\")"
      ]
    },
    {
      "cell_type": "markdown",
      "metadata": {},
      "source": [
        "Podemos usar operadores booleanos"
      ]
    },
    {
      "cell_type": "code",
      "execution_count": null,
      "metadata": {},
      "outputs": [],
      "source": [
        "a = 200\n",
        "b = 33\n",
        "c = 500\n",
        "\n",
        "# AND\n",
        "if a > b and c > a:\n",
        "  print(\"Ambas son verdad\")\n",
        "\n",
        "if a > b or a > c:\n",
        "  print(\"Al menos una es verdad\")"
      ]
    },
    {
      "cell_type": "markdown",
      "metadata": {},
      "source": [
        "Los `if`s se pueden anidar"
      ]
    },
    {
      "cell_type": "code",
      "execution_count": null,
      "metadata": {},
      "outputs": [],
      "source": [
        "x = 41\n",
        "\n",
        "if x > 10:\n",
        "  print(\"Sobre 10,\")\n",
        "  if x > 20:\n",
        "    print(\"y mayor que 20!\")\n",
        "  else:\n",
        "    print(\"pero menor que 20.\")"
      ]
    },
    {
      "cell_type": "markdown",
      "metadata": {
        "id": "UONpMhF4L9f_"
      },
      "source": [
        "### Loops"
      ]
    },
    {
      "cell_type": "markdown",
      "metadata": {
        "id": "_DYz1j6QL9f_"
      },
      "source": [
        "You can loop over the elements of a list like this:"
      ]
    },
    {
      "cell_type": "code",
      "execution_count": null,
      "metadata": {
        "colab": {
          "base_uri": "https://localhost:8080/",
          "height": 69
        },
        "id": "4cCOysfWL9gA",
        "outputId": "560e46c7-279c-409a-838c-64bea8d321c4"
      },
      "outputs": [],
      "source": [
        "animals = ['cat', 'dog', 'monkey']\n",
        "for animal in animals:\n",
        "    print(animal)"
      ]
    },
    {
      "cell_type": "markdown",
      "metadata": {
        "id": "KxIaQs7pL9gE"
      },
      "source": [
        "Para iterar un arreglo y obtener su índice, se usa la función `enumerate`:"
      ]
    },
    {
      "cell_type": "code",
      "execution_count": null,
      "metadata": {
        "colab": {
          "base_uri": "https://localhost:8080/",
          "height": 69
        },
        "id": "JjGnDluWL9gF",
        "outputId": "81421905-17ea-4c5a-bcc0-176de19fd9bd"
      },
      "outputs": [],
      "source": [
        "animals = ['cat', 'dog', 'monkey']\n",
        "for idx, animal in enumerate(animals):\n",
        "    print('#{}: {}'.format(idx + 1, animal))"
      ]
    },
    {
      "cell_type": "markdown",
      "metadata": {
        "id": "AXA4jrEOL9hM"
      },
      "source": [
        "### Funciones"
      ]
    },
    {
      "cell_type": "markdown",
      "metadata": {
        "id": "WaRms-QfL9hN"
      },
      "source": [
        "Las funciones de python se crean con `def`"
      ]
    },
    {
      "cell_type": "code",
      "execution_count": null,
      "metadata": {
        "colab": {
          "base_uri": "https://localhost:8080/",
          "height": 69
        },
        "id": "kiMDUr58L9hN",
        "outputId": "9f53bf9a-7b2a-4c51-9def-398e4677cd6c"
      },
      "outputs": [],
      "source": [
        "def signo(x):\n",
        "    if x > 0:\n",
        "        return 'positivo'\n",
        "    elif x < 0:\n",
        "        return 'negativo'\n",
        "    else:\n",
        "        return 'cero'\n",
        "\n",
        "for x in [-1, 0, 1]:\n",
        "    print(signo(x))"
      ]
    },
    {
      "cell_type": "markdown",
      "metadata": {
        "id": "U-QJFt8TL9hR"
      },
      "source": [
        "Podemos crear funciones con argumentos o parámetros. Se pueden definir valores por defecto."
      ]
    },
    {
      "cell_type": "code",
      "execution_count": null,
      "metadata": {
        "colab": {
          "base_uri": "https://localhost:8080/",
          "height": 52
        },
        "id": "PfsZ3DazL9hR",
        "outputId": "6e6af832-67d8-4d8c-949b-335927684ae3"
      },
      "outputs": [],
      "source": [
        "def hello(nombre, gritar=False):\n",
        "    if gritar:\n",
        "        print(f'HOLA, {nombre.upper()}')\n",
        "    else:\n",
        "        print(f'Hola, {nombre}!')\n",
        "\n",
        "hello('Noemí')\n",
        "hello('Felipe', gritar=True)"
      ]
    }
  ],
  "metadata": {
    "colab": {
      "collapsed_sections": [],
      "name": "colab-tutorial.ipynb",
      "provenance": []
    },
    "kernelspec": {
      "display_name": "Python 3.10.4 ('iic2115')",
      "language": "python",
      "name": "python3"
    },
    "language_info": {
      "codemirror_mode": {
        "name": "ipython",
        "version": 3
      },
      "file_extension": ".py",
      "mimetype": "text/x-python",
      "name": "python",
      "nbconvert_exporter": "python",
      "pygments_lexer": "ipython3",
      "version": "3.10.4"
    },
    "vscode": {
      "interpreter": {
        "hash": "e74ff2205f373b2f47f9fd13748c8ecf2e9577e36e778937cfcc80314c435f05"
      }
    }
  },
  "nbformat": 4,
  "nbformat_minor": 0
}
