{
 "cells": [
  {
   "cell_type": "markdown",
   "metadata": {},
   "source": [
    "<p>\n",
    "<font size='5' face='Georgia, Arial'>IIC-2115 Programación como herramienta para la ingeniería</font><br>\n",
    "<font size='1'>Basado en: &copy; 2015 Karim Pichara - Christian Pieringer. Todos los derechos reservados.</font>\n",
    "</p>"
   ]
  },
  {
   "cell_type": "markdown",
   "metadata": {},
   "source": [
    "<h1> Programación Orientada a Objetos </h1>\n",
    "\n",
    "En el mundo real, los objetos son tangibles; podemos tocarlos y sentirlos, representan algo significativo para nosotros. En el campo del desarrollo de software, los objetos son una representación virtual de entidades que tienen un significado dentro de un contexto particular. En este sentido, los objetos mantienen información/datos relacionados con lo que representan y pueden realizar acciones/comportamientos utilizando sus datos. La programación orientada a objetos (OOP por sus siglas en inglés) significa que los programas modelan funcionalidades a través de la interacción entre los objetos que utilizan sus datos y su comportamiento. La forma en que OOP representa los objetos es una __abstracción__, que consiste en crear un modelo simplificado de la realidad tomando los elementos más relacionados según el contexto del problema y transformándolos en atributos y comportamientos. Asignar atributos y métodos a objetos considera dos conceptos principales relacionados con la abstracción: _encapsulación_ e _interfaz_. \n",
    "\n",
    "La _encapsulación_ se refiere a la idea de que algunos atributos no necesitan ser visualizados o accedidos directamente por otros objetos, por lo que podemos producir un código más limpio si mantenemos esos atributos dentro de su respectivo objeto. Por ejemplo, imaginemos que tenemos el objeto `Amplificador` que incluye los atributos `tubos` y `transformador de potencia`. Estos atributos solo tienen sentido en el interior del amplificador porque otros objetos como una `Guitarra` no necesitan interactuar con ellos ni visualizarlos. Por eso, debemos mantenerlos dentro del objeto `Amplificador`.\n",
    "\n",
    "La _interfaz_ permite que cada objeto tenga una \"fachada\" para proteger su implementación (atributos y métodos internos) e interactuar con el resto de objetos. Por ejemplo, un amplificador puede ser un objeto (real) muy complejo con un montón de componentes electrónicos dentro. Consideremos ahora otro objeto (también real) como un guitarrista o la guitarra, que solo interactúan con el amplificador\n",
    "a través del enchufe de entrada y las perillas. Además de los mencionado anteriormente, dos o más objetos (de software) pueden tener la misma interfaz, lo que nos permite reemplazarlos independientemente de su implementación y sin cambiar cómo los usamos. Imaginemos que un guitarrista quiere probar un amplificador de válvulas y un amplificador de estado sólido. En ambos casos, los amplificadores tienen la misma interfaz (perillas y entrada) y ofrecen la misma experiencia de usuario independientemente de su construcción interna"
   ]
  },
  {
   "cell_type": "markdown",
   "metadata": {},
   "source": [
    "<h2> Forma básica para crear una clase: </h2>"
   ]
  },
  {
   "cell_type": "code",
   "execution_count": 33,
   "metadata": {},
   "outputs": [],
   "source": [
    "class Departamento:\n",
    "    '''Clase que representa un departamento en venta\n",
    "       valor esta en UF.\n",
    "    '''\n",
    "    def __init__(self, _id, mts2, valor, num_dorms, num_banos):\n",
    "        self._id = _id\n",
    "        self.mts2 = mts2\n",
    "        self.valor = valor\n",
    "        self.num_dorms = num_dorms\n",
    "        self.num_banos = num_banos\n",
    "        self.servicios = []\n",
    "        self.vendido = False\n",
    "    \n",
    "    def __str__(self): \n",
    "        return f\"Departamento _id = {self._id}, object at {hex(id(self))}:\" \\\n",
    "               f\"\\n\\t mts2 = {self.mts2}\" \\\n",
    "               f\"\\n\\t valor = {self.valor}\" \\\n",
    "               f\"\\n\\t num_dorms = {self.num_dorms}\" \\\n",
    "               f\"\\n\\t num_banos = {self.num_banos}\" \\\n",
    "               f\"\\n\\t servicios = {self.servicios}\" \\\n",
    "               f\"\\n\\t vendido = {self.vendido}\" \\\n",
    "\n",
    "    def vender(self):\n",
    "        if not self.vendido:\n",
    "            self.vendido = True\n",
    "        else:\n",
    "            print(\"Departamento {} ya se vendió\".format(self._id))\n",
    "\n",
    "    def agregar_servicio(self, servicio):\n",
    "        self.servicios.append(servicio)\n",
    "        print(f\"Se añadió el servicio {servicio}\"\\\n",
    "              f\"\\n Servicios actuales: {self.servicios}\")"
   ]
  },
  {
   "cell_type": "code",
   "execution_count": 14,
   "metadata": {},
   "outputs": [
    {
     "name": "stdout",
     "output_type": "stream",
     "text": [
      "1\n",
      "0\n",
      "2\n"
     ]
    },
    {
     "data": {
      "text/plain": [
       "3"
      ]
     },
     "execution_count": 14,
     "metadata": {},
     "output_type": "execute_result"
    }
   ],
   "source": [
    "class Operaciones:\n",
    "    \n",
    "    def __init__(self, a=0, b=0, c=0):\n",
    "        self.a = a\n",
    "        self.b = b\n",
    "        self.c = c\n",
    "        \n",
    "    def suma(self):\n",
    "        print(self.a)\n",
    "        print(self.b)\n",
    "        print(self.c)\n",
    "        return self.a + self.b + self.c\n",
    "    \n",
    "s = Operaciones(a = 1, c = 2)\n",
    "s.suma()"
   ]
  },
  {
   "cell_type": "code",
   "execution_count": 39,
   "metadata": {},
   "outputs": [
    {
     "name": "stdout",
     "output_type": "stream",
     "text": [
      "False\n",
      "True\n",
      "Departamento 1 ya se vendió\n",
      "Departamento _id = 1, object at 0x17dcfb8c490:\n",
      "\t mts2 = 100\n",
      "\t valor = 5000\n",
      "\t num_dorms = 3\n",
      "\t num_banos = 2\n",
      "\t servicios = []\n",
      "\t vendido = True\n"
     ]
    }
   ],
   "source": [
    "d1 = Departamento(_id=1, mts2=100, valor=5000, num_dorms=3, num_banos=2)\n",
    "print(d1.vendido)\n",
    "d1.vender()\n",
    "print(d1.vendido)\n",
    "d1.vender()\n",
    "\n",
    "print(d1)"
   ]
  },
  {
   "cell_type": "code",
   "execution_count": 40,
   "metadata": {},
   "outputs": [
    {
     "name": "stdout",
     "output_type": "stream",
     "text": [
      "False\n",
      "False\n",
      "True\n",
      "True\n"
     ]
    }
   ],
   "source": [
    "d2 = Departamento(_id=2, mts2=185, valor=4000, num_dorms=2, num_banos=1)\n",
    "d3 = Departamento(_id=1, mts2=100, valor=5000, num_dorms=3, num_banos=2)\n",
    "d3.vender()\n",
    "'''\n",
    "En Python se usa el operador = para crear una copia de un objeto.\n",
    "Esto no crea un nuevo objeto, si no que crea una variable nueva que\n",
    "referencia el objeto original.\n",
    "'''\n",
    "d4 = d1\n",
    "\n",
    "print(d1 == d2)\n",
    "print(d1 == d3)\n",
    "print(d1 == d4)\n",
    "\n",
    "'''\n",
    "Como d1 y d4 apuntan al mismo objeto, los cambios se reflejan\n",
    "en ambas variables\n",
    "'''\n",
    "d4.vendido = False\n",
    "print(d1.vendido == d4.vendido)"
   ]
  },
  {
   "cell_type": "markdown",
   "metadata": {},
   "source": [
    "### Copia de Objetos"
   ]
  },
  {
   "cell_type": "code",
   "execution_count": 41,
   "metadata": {},
   "outputs": [
    {
     "name": "stdout",
     "output_type": "stream",
     "text": [
      "d1 Departamento _id = 1, object at 0x17dcfb8c490:\n",
      "\t mts2 = 100\n",
      "\t valor = 5000\n",
      "\t num_dorms = 3\n",
      "\t num_banos = 2\n",
      "\t servicios = []\n",
      "\t vendido = True\n",
      "d5 Departamento _id = 1, object at 0x17dcfb8b820:\n",
      "\t mts2 = 100\n",
      "\t valor = 5000\n",
      "\t num_dorms = 3\n",
      "\t num_banos = 2\n",
      "\t servicios = []\n",
      "\t vendido = False\n"
     ]
    }
   ],
   "source": [
    "from copy import copy\n",
    "\n",
    "d5 = copy(d1)\n",
    "\n",
    "d1.vender()\n",
    "print(\"d1\", d1)\n",
    "print(\"d5\", d5)"
   ]
  },
  {
   "cell_type": "code",
   "execution_count": 42,
   "metadata": {},
   "outputs": [
    {
     "name": "stdout",
     "output_type": "stream",
     "text": [
      "Se añadió el servicio agua\n",
      " Servicios actuales: ['agua']\n",
      "d1 Departamento _id = 1, object at 0x17dcfb8c490:\n",
      "\t mts2 = 100\n",
      "\t valor = 5000\n",
      "\t num_dorms = 3\n",
      "\t num_banos = 2\n",
      "\t servicios = ['agua']\n",
      "\t vendido = True\n",
      "d5 Departamento _id = 1, object at 0x17dcfb8b820:\n",
      "\t mts2 = 100\n",
      "\t valor = 5000\n",
      "\t num_dorms = 3\n",
      "\t num_banos = 2\n",
      "\t servicios = ['agua']\n",
      "\t vendido = False\n"
     ]
    }
   ],
   "source": [
    "'''\n",
    "copy() genera una copia superficial, lo que significa que al copiar el\n",
    "objecto, copia la referencia de los objetos que se guardan en sus \n",
    "atributos internos, como la lista de servicios. Por eso, al agregar\n",
    "un servicio nuevo, cambia en ambos.\n",
    "'''\n",
    "d1.agregar_servicio(\"agua\")\n",
    "\n",
    "print(\"d1\", d1)\n",
    "print(\"d5\", d5)"
   ]
  },
  {
   "cell_type": "code",
   "execution_count": 43,
   "metadata": {},
   "outputs": [
    {
     "name": "stdout",
     "output_type": "stream",
     "text": [
      "Se añadió el servicio electricidad\n",
      " Servicios actuales: ['agua', 'electricidad']\n",
      "d1 Departamento _id = 1, object at 0x17dcfb8c490:\n",
      "\t mts2 = 100\n",
      "\t valor = 5000\n",
      "\t num_dorms = 3\n",
      "\t num_banos = 2\n",
      "\t servicios = ['agua', 'electricidad']\n",
      "\t vendido = True\n",
      "d5 Departamento _id = 1, object at 0x17dcfb8b460:\n",
      "\t mts2 = 100\n",
      "\t valor = 5000\n",
      "\t num_dorms = 3\n",
      "\t num_banos = 2\n",
      "\t servicios = ['agua']\n",
      "\t vendido = True\n"
     ]
    }
   ],
   "source": [
    "'''\n",
    "Para que no ocurra eso, usamos el método deepcopy()\n",
    "'''\n",
    "from copy import deepcopy\n",
    "\n",
    "d6 = deepcopy(d1)\n",
    "\n",
    "d1.agregar_servicio(\"electricidad\")\n",
    "\n",
    "print(\"d1\", d1)\n",
    "print(\"d6\", d6)"
   ]
  },
  {
   "cell_type": "markdown",
   "metadata": {},
   "source": [
    "<h2> Para ver una descripción de la clase: </h2>"
   ]
  },
  {
   "cell_type": "code",
   "execution_count": 44,
   "metadata": {},
   "outputs": [
    {
     "name": "stdout",
     "output_type": "stream",
     "text": [
      "Help on class Departamento in module __main__:\n",
      "\n",
      "class Departamento(builtins.object)\n",
      " |  Departamento(_id, mts2, valor, num_dorms, num_banos)\n",
      " |  \n",
      " |  Clase que representa un departamento en venta\n",
      " |  valor esta en UF.\n",
      " |  \n",
      " |  Methods defined here:\n",
      " |  \n",
      " |  __init__(self, _id, mts2, valor, num_dorms, num_banos)\n",
      " |      Initialize self.  See help(type(self)) for accurate signature.\n",
      " |  \n",
      " |  __str__(self)\n",
      " |      Return str(self).\n",
      " |  \n",
      " |  agregar_servicio(self, servicio)\n",
      " |  \n",
      " |  vender(self)\n",
      " |  \n",
      " |  ----------------------------------------------------------------------\n",
      " |  Data descriptors defined here:\n",
      " |  \n",
      " |  __dict__\n",
      " |      dictionary for instance variables (if defined)\n",
      " |  \n",
      " |  __weakref__\n",
      " |      list of weak references to the object (if defined)\n",
      " |  \n",
      " |  ----------------------------------------------------------------------\n",
      " |  Data and other attributes defined here:\n",
      " |  \n",
      " |  __slotnames__ = []\n",
      "\n"
     ]
    }
   ],
   "source": [
    "help(Departamento)"
   ]
  },
  {
   "cell_type": "markdown",
   "metadata": {},
   "source": [
    "## Para _sugerir_ que un método o variable sea interno:\n",
    "\n",
    "A diferencia de lo que ocurre en otros lenguajes de programación (por ejemplo, en Java), en Python todas las variables y métodos de un objeto pueden ser accedidos desde fuera de él. Es decir, son **públicos**. En ciertos casos, nos gustaría indicar que un método es de uso **interno** de la clase. Esto ocurre cuando hay acciones que son realizadas por un objeto, pero no deseamos que sean expuestas a su entorno. Por ejemplo:"
   ]
  },
  {
   "cell_type": "code",
   "execution_count": 45,
   "metadata": {},
   "outputs": [],
   "source": [
    "class Televisor:\n",
    "    ''' Clase que modela un televisor.\n",
    "    '''\n",
    "    \n",
    "    def __init__(self, pulgadas, marca):\n",
    "        self.pulgadas = pulgadas\n",
    "        self.marca = marca\n",
    "        self.encendido = False\n",
    "        self.canal_actual = 0\n",
    "        \n",
    "    def encender(self):\n",
    "        self.encendido = True\n",
    "        \n",
    "    def apagar(self):\n",
    "        self.encendido = False\n",
    "        \n",
    "    def cambiar_canal(self, nuevo_canal):\n",
    "        self._codificar_imagen()\n",
    "        self.canal_actual = nuevo_canal\n",
    "        \n",
    "    def _codificar_imagen(self):\n",
    "        print(\"Estoy convirtiendo una señal eléctrica en la imagen que estás viendo.\")\n",
    "        "
   ]
  },
  {
   "cell_type": "markdown",
   "metadata": {},
   "source": [
    "En este ejemplo, podemos notar que la clase `Televisor` tiene los métodos `encender`, `apagar`, `cambiar_canal` y `_codificar_imagen`. Digamos que queremos crear objetos de la clase `Televisor`. "
   ]
  },
  {
   "cell_type": "code",
   "execution_count": 46,
   "metadata": {},
   "outputs": [],
   "source": [
    "televisor1 = Televisor(17, 'zony')\n",
    "televisor2 = Televisor(21, 'zamsung')"
   ]
  },
  {
   "cell_type": "markdown",
   "metadata": {},
   "source": [
    "Estos televisores que hemos creado deberían poder ser encendidos y apagados. También deberíamos poder cambiar el canal.\n",
    "Sin embargo, no necesitamos decirle al televisor que codifique la imagen. Ésta es una operación que se realiza automáticamente, cada vez que se cambia el canal."
   ]
  },
  {
   "cell_type": "code",
   "execution_count": 47,
   "metadata": {},
   "outputs": [
    {
     "name": "stdout",
     "output_type": "stream",
     "text": [
      "Estoy convirtiendo una señal eléctrica en la imagen que estás viendo.\n"
     ]
    }
   ],
   "source": [
    "televisor1._codificar_imagen()"
   ]
  },
  {
   "cell_type": "markdown",
   "metadata": {},
   "source": [
    "Notemos, entonces, que la codificación de las señales eléctricas es un proceso interno. No es relevante para el usuario de esta clase saber cómo ocurre: sólo le interesa poder cambiar el canal.\n",
    "Es por esto que, por convención, los metodos que esperamos que sean sólo de uso interno deben comenzar con un underscore (\\_), por ejemplo `_codificar_imagen()`. **Notemos que esto es sólo una sugerencia, aun se pueden acceder directamente si así se quiere.**\n",
    "\n",
    "Para sugerir _fuertemente_ que el método o variable sea interna, usamos doble _underscore_ (\\_\\_). En este caso, el acceso no es tan directo. Esto se llama **_name mangling_**, que se refiere a codificar información adicional semántica en algunas variables."
   ]
  },
  {
   "cell_type": "code",
   "execution_count": 48,
   "metadata": {},
   "outputs": [],
   "source": [
    "class PalabraSecreta:\n",
    "    ''' Clase que guarda un string sin mucha seguridad.\n",
    "    '''\n",
    "    def __init__(self, palabra_clave, frase_secreta):\n",
    "        self.__palabra_clave = palabra_clave\n",
    "        self.__frase_secreta = frase_secreta\n",
    "\n",
    "    def decriptar(self, frase_secreta):\n",
    "        ''' Solo si la frase_secreta es correcta'''\n",
    "        if frase_secreta == self.__frase_secreta:\n",
    "            return self.__palabra_clave\n",
    "        else:\n",
    "            return ''"
   ]
  },
  {
   "cell_type": "markdown",
   "metadata": {},
   "source": [
    "Si intentamos ahora acceder a la variable \\_\\_`palabra_clave`, no podemos hacerlo de manera directa:"
   ]
  },
  {
   "cell_type": "code",
   "execution_count": 49,
   "metadata": {},
   "outputs": [
    {
     "name": "stdout",
     "output_type": "stream",
     "text": [
      "animal\n"
     ]
    },
    {
     "ename": "AttributeError",
     "evalue": "'PalabraSecreta' object has no attribute '__palabra_clave'",
     "output_type": "error",
     "traceback": [
      "\u001b[1;31m---------------------------------------------------------------------------\u001b[0m",
      "\u001b[1;31mAttributeError\u001b[0m                            Traceback (most recent call last)",
      "\u001b[1;32mc:\\Users\\faroj\\IIC2115\\Syllabus-2022-1\\Material de clases\\Capítulo 1\\Parte a\\01 - Objetos en Python.ipynb Cell 23'\u001b[0m in \u001b[0;36m<cell line: 3>\u001b[1;34m()\u001b[0m\n\u001b[0;32m      <a href='vscode-notebook-cell:/c%3A/Users/faroj/IIC2115/Syllabus-2022-1/Material%20de%20clases/Cap%C3%ADtulo%201/Parte%20a/01%20-%20Objetos%20en%20Python.ipynb#ch0000017?line=0'>1</a>\u001b[0m s \u001b[39m=\u001b[39m PalabraSecreta(\u001b[39m\"\u001b[39m\u001b[39manimal\u001b[39m\u001b[39m\"\u001b[39m, \u001b[39m\"\u001b[39m\u001b[39mtiene patas\u001b[39m\u001b[39m\"\u001b[39m)\n\u001b[0;32m      <a href='vscode-notebook-cell:/c%3A/Users/faroj/IIC2115/Syllabus-2022-1/Material%20de%20clases/Cap%C3%ADtulo%201/Parte%20a/01%20-%20Objetos%20en%20Python.ipynb#ch0000017?line=1'>2</a>\u001b[0m \u001b[39mprint\u001b[39m(s\u001b[39m.\u001b[39mdecriptar(\u001b[39m\"\u001b[39m\u001b[39mtiene patas\u001b[39m\u001b[39m\"\u001b[39m))\n\u001b[1;32m----> <a href='vscode-notebook-cell:/c%3A/Users/faroj/IIC2115/Syllabus-2022-1/Material%20de%20clases/Cap%C3%ADtulo%201/Parte%20a/01%20-%20Objetos%20en%20Python.ipynb#ch0000017?line=2'>3</a>\u001b[0m s\u001b[39m.\u001b[39;49m__palabra_clave\n",
      "\u001b[1;31mAttributeError\u001b[0m: 'PalabraSecreta' object has no attribute '__palabra_clave'"
     ]
    }
   ],
   "source": [
    "s = PalabraSecreta(\"animal\", \"tiene patas\")\n",
    "print(s.decriptar(\"tiene patas\"))\n",
    "s.__palabra_clave"
   ]
  },
  {
   "cell_type": "markdown",
   "metadata": {},
   "source": [
    "Pero como indicamos anteriormente, esto sigue siendo una sugerencia. Si se requiere acceder de todas maneras a la variable o método, se puede hacer fácilmente de la siguiente manera:"
   ]
  },
  {
   "cell_type": "code",
   "execution_count": 50,
   "metadata": {},
   "outputs": [
    {
     "data": {
      "text/plain": [
       "'animal'"
      ]
     },
     "execution_count": 50,
     "metadata": {},
     "output_type": "execute_result"
    }
   ],
   "source": [
    "s._PalabraSecreta__palabra_clave"
   ]
  },
  {
   "cell_type": "markdown",
   "metadata": {},
   "source": [
    "<h2>Ejemplo: Post It </h2>\n",
    "Veamos ahora un ejemplo más acabado de orientación a objetos:"
   ]
  },
  {
   "cell_type": "markdown",
   "metadata": {},
   "source": [
    "<h3> Clase PostIt: </h3>"
   ]
  },
  {
   "cell_type": "code",
   "execution_count": null,
   "metadata": {},
   "outputs": [],
   "source": [
    "#Ejemplo: Programa para manejar postits en un panel mural\n",
    "\n",
    "import datetime\n",
    "\n",
    "class PostIt:\n",
    "    ''' Representa un post it, contiene un mensaje, guarda un conjunto de tags y responde si hay match con ciertos tags\n",
    "        Contiene ademas un id\n",
    "    '''\n",
    "    last_id = 0 #variable estática para manejar el ultimo id generado\n",
    "    \n",
    "    def __init__(self, mensaje, tags = ''):\n",
    "        self.mensaje = mensaje\n",
    "        self.tags = tags\n",
    "        self.creation_date = datetime.date.today()\n",
    "        self._id = PostIt.last_id #variable de la clase para manejar el ultimo id generado\n",
    "        PostIt.last_id += 1\n",
    "\n",
    "    def match(self, keyword):\n",
    "        ''' determina si el mensaje de la nota contiene el keyword o no'''\n",
    "        return keyword in self.mensaje or keyword in self.tags\n"
   ]
  },
  {
   "cell_type": "markdown",
   "metadata": {},
   "source": [
    "<h3> Clase Panel: </h3>"
   ]
  },
  {
   "cell_type": "code",
   "execution_count": null,
   "metadata": {},
   "outputs": [],
   "source": [
    "class Panel:\n",
    "    ''' Representa un panel con un conjunto de postits (con memos) pegados\n",
    "        cada hoja ademas de un memo tiene tags, asi podemos buscar hojas\n",
    "        tambien podemos modificarlas\n",
    "    '''\n",
    "\n",
    "    def __init__(self):\n",
    "        self.postit_dict = {}\n",
    "\n",
    "    #esta función será necesaria para varios métodos de la clase\n",
    "    #una mejor opción es usar un diccionario e indexar por el id del postit\n",
    "    #def _buscar_postit_id(self, postit_id):\n",
    "    #    ''' Busca el postit correspondiente al id'''\n",
    "    #    for p in self.postit_dict:\n",
    "    #        if p._id == postit_id:\n",
    "    #            return p\n",
    "    #    return None\n",
    "\n",
    "    def nuevo_postit(self, texto, tags=''):\n",
    "        '''Agrega una hoja con un mensaje a nuestro muro'''\n",
    "        p = PostIt(texto, tags)\n",
    "        self.postit_dict.update({p._id : p})\n",
    "\n",
    "\n",
    "    def modifica_mensaje(self, postit_id, mensaje_nuevo):\n",
    "        #este for era una opcion pero es mejor hacer una fucion aparte que busque, para\n",
    "        #no repetir codigo en la funcion modifica_tags\n",
    "        #for p in self.postit_dict:\n",
    "        #    if p._id == postit_id:\n",
    "        self.postit_dict[postit_id].mensaje = mensaje_nuevo\n",
    "\n",
    "\n",
    "    def modifica_tags(self, postit_id, tags_nuevos):\n",
    "        self.postit_dict[postit_id].tags = tags_nuevos\n",
    "\n",
    "    def buscar_postits(self, keyword):\n",
    "        return [p for p in self.postit_dict.values() if p.match(keyword)]\n",
    "\n",
    "\n",
    "    def display(self, keyword=None):\n",
    "        ''' Muestra todos los post its en el panel'''\n",
    "        result = []\n",
    "        if keyword:\n",
    "            result = [p for p in self.buscar_postits(keyword)]\n",
    "        else:\n",
    "            result = self.postit_dict\n",
    "\n",
    "        for p in result:\n",
    "            print(\"post it {0}: \\n Mensaje: {1} \\n Tags: {2}\".format(p._id, p.mensaje, p.tags))"
   ]
  },
  {
   "cell_type": "markdown",
   "metadata": {},
   "source": [
    "<h3> Menú para crear, editar, leer, etc. PostIts:</h3>"
   ]
  },
  {
   "cell_type": "code",
   "execution_count": null,
   "metadata": {},
   "outputs": [],
   "source": [
    "import sys\n",
    "# from postit import PostIt, Panel\n",
    "# Aquí no es necesario por el iPython, pero si tenemos un archivo separado para el menu hay que\n",
    "# importar estas clases\n",
    "\n",
    "class Menu:\n",
    "    def __init__(self):\n",
    "        self.panel = Panel()\n",
    "        self.opciones = {\n",
    "                        \"1\": self.display_postits,\n",
    "                        \"2\": self.buscar_postits,\n",
    "                        \"3\": self.agregar_postit,\n",
    "                        \"4\": self.modificar_postit,\n",
    "                        \"5\": self.salir\n",
    "                        }\n",
    "\n",
    "    def display_menu(self):\n",
    "        print(\"\"\"\n",
    "            Menu:\n",
    "                1: Mostrar Post-Its\n",
    "                2: Buscar Post-Its\n",
    "                3: Agregar nuevo Post-It\n",
    "                4: Modificar Post-It existente\n",
    "                5: Salir\n",
    "            \"\"\")\n",
    "\n",
    "    def run(self):\n",
    "        running = True\n",
    "        while running:\n",
    "            self.display_menu()\n",
    "            eleccion = input(\"Ingrese Opcion: \")\n",
    "            accion = self.opciones.get(eleccion)\n",
    "            if accion:\n",
    "                accion()  # aqui se llama a la funcion\n",
    "            else:\n",
    "                print(\"{0} no es una opcion valida\".format(eleccion))\n",
    "            if eleccion == '5':\n",
    "                running = False\n",
    "\n",
    "    def display_postits(self, p_list=None):\n",
    "        if not p_list:\n",
    "            p_list = self.panel.postit_dict.values()  # si no dan la lista a mostrar, mostramos todos los post-its\n",
    "\n",
    "        if not p_list:\n",
    "            print(\"No hay Post-Its creados...\")\n",
    "        else:\n",
    "            for p in p_list:\n",
    "                print(\"post it {0}: \\n Mensaje: {1} \\n Tags: {2}\".format(p._id, p.mensaje, p.tags))\n",
    "\n",
    "\n",
    "    def buscar_postits(self):\n",
    "        keyword = input(\"Ingrese keyword: \")\n",
    "        postit_list = self.panel.buscar_postits(keyword)\n",
    "        self.display_postits(postit_list)\n",
    "\n",
    "    def agregar_postit(self):\n",
    "        mensaje = input(\"Ingrese Mensaje: \")\n",
    "        tag_list = input(\"Ingrese Tags separados por espacios: \")\n",
    "        tag_list = tag_list.split()  # separa los strings por espacio y los pone en una lista\n",
    "        self.panel.nuevo_postit(mensaje, tag_list)\n",
    "        print(\"Nota creada exitosamente!!\")\n",
    "\n",
    "    def modificar_postit(self):\n",
    "        _id = input(\"ingrese el id del Post-It que quiere modificar: \")\n",
    "        _id = int(_id)\n",
    "        while _id not in self.panel.postit_dict.keys():\n",
    "            print(\"El id no existe en la base de datos..\")\n",
    "            _id = input(\"ingrese el id del Post-It que quiere modificar: \")\n",
    "            _id = int(_id)\n",
    "        \n",
    "        mensaje = input(\"Ingrese el nuevo mensaje: \")\n",
    "        tag_list = input(\"Ingrese los nuevos tags separados por espacios: \")\n",
    "        if mensaje:\n",
    "            print(_id)\n",
    "            self.panel.modifica_mensaje(_id, mensaje)\n",
    "        if tag_list:\n",
    "            tag_list = tag_list.split()\n",
    "            self.panel.modifica_tags(_id, tag_list)\n",
    "        print(\"postit modificado exitosamente!!\")\n",
    "            \n",
    "    def salir(self):\n",
    "        print(\"Gracias por usar nuestro Post-It\")\n",
    "\n",
    "\n",
    "if __name__ == \"__main__\":   # esto es para que corra en la consola\n",
    "    Menu().run()"
   ]
  }
 ],
 "metadata": {
  "kernelspec": {
   "display_name": "Python 3.9.13 64-bit (windows store)",
   "language": "python",
   "name": "python3"
  },
  "language_info": {
   "codemirror_mode": {
    "name": "ipython",
    "version": 3
   },
   "file_extension": ".py",
   "mimetype": "text/x-python",
   "name": "python",
   "nbconvert_exporter": "python",
   "pygments_lexer": "ipython3",
   "version": "3.9.13"
  },
  "vscode": {
   "interpreter": {
    "hash": "c9ffa6bbab274056c46cf09cb6257a15838fe458e2ce7d2265a0f58bc6b2b59d"
   }
  }
 },
 "nbformat": 4,
 "nbformat_minor": 4
}
